{
  "nbformat": 4,
  "nbformat_minor": 0,
  "metadata": {
    "colab": {
      "name": "linear_regression1.ipynb",
      "provenance": [],
      "collapsed_sections": [],
      "authorship_tag": "ABX9TyNL+C+em2uXrYunQwEmLRT5",
      "include_colab_link": true
    },
    "kernelspec": {
      "name": "python3",
      "display_name": "Python 3"
    }
  },
  "cells": [
    {
      "cell_type": "markdown",
      "metadata": {
        "id": "view-in-github",
        "colab_type": "text"
      },
      "source": [
        "<a href=\"https://colab.research.google.com/github/takeru0208/sample_deep_learning/blob/feature/linear_regression1.ipynb\" target=\"_parent\"><img src=\"https://colab.research.google.com/assets/colab-badge.svg\" alt=\"Open In Colab\"/></a>"
      ]
    },
    {
      "cell_type": "code",
      "metadata": {
        "id": "1024CpX8-QBr",
        "colab_type": "code",
        "colab": {}
      },
      "source": [
        "import torch\n",
        "#真の係数\n",
        "w_true = torch.Tensor([1, 2, 3])\n",
        "\n",
        "# Xのデータ \n",
        "# torch.ones(100, 1)は 中身が１のtensor100個\n",
        "# torch.randn(100, 2)は 中身が正規分布の100*2個\n",
        "# torch.cat は第一引数のtorchを連結する。 第２引数は扱う次元\n",
        "# これによって100*3の一番左が１，で右がN(0,1)の乱数がふたつ付いたものとなる。\n",
        "X = torch.cat([torch.ones(100, 1), torch.randn(100, 2)], 1)\n",
        "\n",
        "# torch.mvは一次元専用のdot、これによって100個のtensorができる。\n",
        "# これにてy=1+2*x_1+3*x_2 + 誤差 の100個のデータができる。\n",
        "y = torch.mv(X, w_true) + torch.randn(100) * 0.5\n",
        "w = torch.randn(3, requires_grad=True)\n",
        "gamma = 0.1"
      ],
      "execution_count": 3,
      "outputs": []
    },
    {
      "cell_type": "code",
      "metadata": {
        "id": "lZVlB7FsEKMR",
        "colab_type": "code",
        "colab": {}
      },
      "source": [
        "losses = []\n",
        "\n",
        "#100エポック回す。\n",
        "for epoc in range(100):\n",
        "  #前回のbackwardメソッドで計算された勾配の値の削除\n",
        "  w.grad = None\n",
        "\n",
        "  #線形モデルでyの予測値を計算\n",
        "  y_pred = torch.mv(X, w)\n",
        "\n",
        "  # MSE loss とwによる微分の計算\n",
        "  loss = torch.mean((y - y_pred)**2)\n",
        "  loss.backward()\n",
        "\n",
        "  # 勾配の更新\n",
        "  w.data = w.data - gamma * w.grad.data\n",
        "\n",
        "  losses.append(loss.item())\n"
      ],
      "execution_count": 5,
      "outputs": []
    },
    {
      "cell_type": "code",
      "metadata": {
        "id": "d8HvEYNJEtXR",
        "colab_type": "code",
        "colab": {
          "base_uri": "https://localhost:8080/",
          "height": 282
        },
        "outputId": "98b1f6e6-4a29-4d87-958f-763cae6356b9"
      },
      "source": [
        "from matplotlib import pyplot as plt\n",
        "plt.plot(losses)"
      ],
      "execution_count": 11,
      "outputs": [
        {
          "output_type": "execute_result",
          "data": {
            "text/plain": [
              "[<matplotlib.lines.Line2D at 0x7fbc0476ad30>]"
            ]
          },
          "metadata": {
            "tags": []
          },
          "execution_count": 11
        },
        {
          "output_type": "display_data",
          "data": {
            "image/png": "[encoded data removed]",
            "text/plain": [
              "<Figure size 432x288 with 1 Axes>"
            ]
          },
          "metadata": {
            "tags": [],
            "needs_background": "light"
          }
        }
      ]
    },
    {
      "cell_type": "code",
      "metadata": {
        "id": "g2pdGQuRS4cg",
        "colab_type": "code",
        "colab": {
          "base_uri": "https://localhost:8080/",
          "height": 34
        },
        "outputId": "8da2b1ed-a41a-446b-b0b6-f11af0ba3b7e"
      },
      "source": [
        "#tensor([0.9085, 2.0463, 2.9689])\n",
        "#答えが1,2,3なので大体あってる。\n",
        "print(w.data)\n"
      ],
      "execution_count": 12,
      "outputs": [
        {
          "output_type": "stream",
          "text": [
            "tensor([0.9085, 2.0463, 2.9689])\n"
          ],
          "name": "stdout"
        }
      ]
    },
    {
      "cell_type": "code",
      "metadata": {
        "id": "CH_nBIMvS9h5",
        "colab_type": "code",
        "colab": {}
      },
      "source": [
        ""
      ],
      "execution_count": null,
      "outputs": []
    }
  ]
}